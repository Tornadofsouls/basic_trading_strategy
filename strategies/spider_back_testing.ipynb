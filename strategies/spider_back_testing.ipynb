{
 "cells": [
  {
   "cell_type": "markdown",
   "id": "685a163d",
   "metadata": {},
   "source": [
    "# 蜘蛛网策略\n",
    "\n",
    "## 背景原理\n",
    "\n",
    "http://pg.jrj.com.cn/acc/Res/CN_RES/INVEST/2020/2/10/b0641656-acec-4b7c-812c-3c0451407c06.pdf\n",
    "http://pdf.dfcfw.com/pdf/H3_AP201804051118255367_1.pdf"
   ]
  },
  {
   "cell_type": "code",
   "execution_count": null,
   "id": "24057547",
   "metadata": {},
   "outputs": [],
   "source": [
    "%load_ext autoreload\n",
    "%autoreload 2"
   ]
  },
  {
   "cell_type": "code",
   "execution_count": null,
   "id": "3bb5904f",
   "metadata": {},
   "outputs": [],
   "source": [
    "from spiders import SpiderStrategyBackTestingWrapper\n",
    "from market_data.data_definition import *\n",
    "from datetime import datetime\n",
    "\n",
    "s1 = SpiderStrategyBackTestingWrapper(if_daily_tick_data, if_holding_data)\n",
    "s1.download_data()\n",
    "s1.back_test_and_get_today_target_pos(start_date=datetime(2016,1,1,0,0,0), top_n=100)\n",
    "#s1.back_test_and_get_today_target_pos(top_n=10)"
   ]
  },
  {
   "cell_type": "code",
   "execution_count": null,
   "id": "59be255b",
   "metadata": {
    "scrolled": true
   },
   "outputs": [],
   "source": [
    "s1.show_result()"
   ]
  },
  {
   "cell_type": "code",
   "execution_count": null,
   "id": "95fccc28",
   "metadata": {},
   "outputs": [],
   "source": []
  }
 ],
 "metadata": {
  "celltoolbar": "Tags",
  "kernelspec": {
   "display_name": "Python 3 (ipykernel)",
   "language": "python",
   "name": "python3"
  },
  "language_info": {
   "codemirror_mode": {
    "name": "ipython",
    "version": 3
   },
   "file_extension": ".py",
   "mimetype": "text/x-python",
   "name": "python",
   "nbconvert_exporter": "python",
   "pygments_lexer": "ipython3",
   "version": "3.9.5"
  }
 },
 "nbformat": 4,
 "nbformat_minor": 5
}
