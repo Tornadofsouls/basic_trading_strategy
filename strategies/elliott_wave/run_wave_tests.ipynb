{
 "cells": [
  {
   "cell_type": "code",
   "execution_count": 1,
   "id": "d2c52127",
   "metadata": {},
   "outputs": [],
   "source": [
    "%load_ext autoreload\n",
    "%autoreload 2"
   ]
  },
  {
   "cell_type": "code",
   "execution_count": 2,
   "id": "f6a76d9d",
   "metadata": {},
   "outputs": [],
   "source": [
    "import logging\n",
    "\n",
    "logger = logging.getLogger(__name__)\n",
    "logging.basicConfig(level=logging.INFO)"
   ]
  },
  {
   "cell_type": "markdown",
   "id": "1e86a88d",
   "metadata": {},
   "source": [
    "# Unittest for wave and rules"
   ]
  },
  {
   "cell_type": "code",
   "execution_count": 10,
   "id": "0f5cd148",
   "metadata": {
    "scrolled": true
   },
   "outputs": [
    {
     "name": "stderr",
     "output_type": "stream",
     "text": [
      "test_guide3 (tests.diagonal_wave_tests.DiagonalWaveTests) ... ok\n",
      "test_guide4 (tests.diagonal_wave_tests.DiagonalWaveTests) ... ok\n",
      "test_guide5 (tests.diagonal_wave_tests.DiagonalWaveTests) ... ok\n",
      "test_guide6 (tests.diagonal_wave_tests.DiagonalWaveTests) ... ok\n",
      "test_rule11 (tests.diagonal_wave_tests.DiagonalWaveTests) ... ok\n",
      "test_rule12 (tests.diagonal_wave_tests.DiagonalWaveTests) ... ok\n",
      "test_rule13 (tests.diagonal_wave_tests.DiagonalWaveTests) ... ok\n",
      "test_rule14 (tests.diagonal_wave_tests.DiagonalWaveTests) ... ok\n",
      "test_rule15 (tests.diagonal_wave_tests.DiagonalWaveTests) ... ok\n",
      "test_rule16 (tests.diagonal_wave_tests.DiagonalWaveTests) ... ok\n",
      "test_rule17 (tests.diagonal_wave_tests.DiagonalWaveTests) ... ok\n",
      "test_rule18 (tests.diagonal_wave_tests.DiagonalWaveTests) ... ok\n",
      "test_rule19 (tests.diagonal_wave_tests.EndingDiagonalWaveTests) ... ok\n",
      "test_expanded_flat_wave (tests.flat_wave_tests.FlatWaveTests) ... ok\n",
      "test_guide_1_2_3 (tests.flat_wave_tests.FlatWaveTests) ... ok\n",
      "test_regular_flat_wave (tests.flat_wave_tests.FlatWaveTests) ... ok\n",
      "test_rule23 (tests.flat_wave_tests.FlatWaveTests) ... ok\n",
      "test_running_flat_wave (tests.flat_wave_tests.FlatWaveTests) ... ok\n",
      "test_PointNumberRule (tests.impluse_wave_tests.ImpluseWaveTests) ... ok\n",
      "test_impluse_wave_combination (tests.impluse_wave_tests.ImpluseWaveTests) ... ok\n",
      "test_impluse_wave_guide_01 (tests.impluse_wave_tests.ImpluseWaveTests) ... ok\n",
      "test_impluse_wave_guide_02 (tests.impluse_wave_tests.ImpluseWaveTests) ... ok\n",
      "test_impluse_wave_guide_03 (tests.impluse_wave_tests.ImpluseWaveTests) ... ok\n",
      "test_impluse_wave_guide_04 (tests.impluse_wave_tests.ImpluseWaveTests) ... ok\n",
      "test_impluse_wave_guide_05 (tests.impluse_wave_tests.ImpluseWaveTests) ... ok\n",
      "test_impluse_wave_guide_06 (tests.impluse_wave_tests.ImpluseWaveTests) ... ok\n",
      "test_impluse_wave_guide_07 (tests.impluse_wave_tests.ImpluseWaveTests) ... ok\n",
      "test_impluse_wave_guide_08 (tests.impluse_wave_tests.ImpluseWaveTests) ... ok\n",
      "test_impluse_wave_guide_09 (tests.impluse_wave_tests.ImpluseWaveTests) ... ok\n",
      "test_impluse_wave_guide_10 (tests.impluse_wave_tests.ImpluseWaveTests) ... ok\n",
      "test_impluse_wave_guide_11 (tests.impluse_wave_tests.ImpluseWaveTests) ... ok\n",
      "test_impluse_wave_guide_12 (tests.impluse_wave_tests.ImpluseWaveTests) ... ok\n",
      "test_impluse_wave_guide_13 (tests.impluse_wave_tests.ImpluseWaveTests) ... ok\n",
      "test_impluse_wave_guide_15 (tests.impluse_wave_tests.ImpluseWaveTests) ... ok\n",
      "test_impluse_wave_guide_16 (tests.impluse_wave_tests.ImpluseWaveTests) ... ok\n",
      "test_impluse_wave_guide_18 (tests.impluse_wave_tests.ImpluseWaveTests) ... ok\n",
      "test_rule0 (tests.impluse_wave_tests.ImpluseWaveTests) ... ok\n",
      "test_rule1 (tests.impluse_wave_tests.ImpluseWaveTests) ... ok\n",
      "test_rule10 (tests.impluse_wave_tests.ImpluseWaveTests) ... ok\n",
      "test_rule2 (tests.impluse_wave_tests.ImpluseWaveTests) ... ok\n",
      "test_rule3 (tests.impluse_wave_tests.ImpluseWaveTests) ... ok\n",
      "test_rule33 (tests.impluse_wave_tests.ImpluseWaveTests) ... ok\n",
      "test_rule4 (tests.impluse_wave_tests.ImpluseWaveTests) ... ok\n",
      "test_rule5 (tests.impluse_wave_tests.ImpluseWaveTests) ... ok\n",
      "test_rule6_7 (tests.impluse_wave_tests.ImpluseWaveTests) ... ok\n",
      "test_rule8 (tests.impluse_wave_tests.ImpluseWaveTests) ... ok\n",
      "test_rule9 (tests.impluse_wave_tests.ImpluseWaveTests) ... ok\n",
      "test_rule20 (tests.diagonal_wave_tests.LeadingDiagonalWaveTests) ... ok\n",
      "test_rule21 (tests.diagonal_wave_tests.LeadingDiagonalWaveTests) ... ok\n",
      "test_rule25 (tests.triangle_wave_tests.TriangleWaveTests) ... ok\n",
      "test_rule26 (tests.triangle_wave_tests.TriangleWaveTests) ... ok\n",
      "test_rule27 (tests.triangle_wave_tests.TriangleWaveTests) ... ok\n",
      "test_rule28 (tests.triangle_wave_tests.TriangleWaveTests) ... ok\n",
      "test_rule29 (tests.triangle_wave_tests.TriangleWaveTests) ... ok\n",
      "test_rule30 (tests.triangle_wave_tests.TriangleWaveTests) ... ok\n",
      "test_guide_1_2 (tests.zigzag_wave_tests.TripleCombinationWaveTests) ... ok\n",
      "test_get_wave_moving_ratio (tests.wave_utils_tests.WaveUtilsTest) ... ok\n",
      "test_guide_1_2 (tests.zigzag_wave_tests.ZigZagCombinationWaveTests) ... ok\n",
      "test_guide_1_2_3_4_5_7_9 (tests.zigzag_wave_tests.ZigZagWaveTests) ... ok\n",
      "test_guide_8 (tests.zigzag_wave_tests.ZigZagWaveTests) ... ok\n",
      "test_rule22 (tests.zigzag_wave_tests.ZigZagWaveTests) ... ok\n",
      "\n",
      "----------------------------------------------------------------------\n",
      "Ran 61 tests in 0.036s\n",
      "\n",
      "OK\n"
     ]
    },
    {
     "data": {
      "text/plain": [
       "<unittest.main.TestProgram at 0x1248180d0>"
      ]
     },
     "execution_count": 10,
     "metadata": {},
     "output_type": "execute_result"
    }
   ],
   "source": [
    "import guides\n",
    "import wave_utils\n",
    "import waves\n",
    "import rules\n",
    "import unittest\n",
    "from tests.diagonal_wave_tests import DiagonalWaveTests\n",
    "from tests.impluse_wave_tests import ImpluseWaveTests\n",
    "from tests.wave_utils_tests import WaveUtilsTest\n",
    "from tests.diagonal_wave_tests import EndingDiagonalWaveTests, LeadingDiagonalWaveTests\n",
    "from tests.zigzag_wave_tests import ZigZagWaveTests, ZigZagCombinationWaveTests, TripleCombinationWaveTests\n",
    "from tests.flat_wave_tests import FlatWaveTests\n",
    "from tests.triangle_wave_tests import TriangleWaveTests\n",
    "\n",
    "unittest.main(argv=[''], verbosity=2, exit=False)"
   ]
  },
  {
   "cell_type": "markdown",
   "id": "d208761b",
   "metadata": {},
   "source": [
    "# Test point limit functions for rules"
   ]
  },
  {
   "cell_type": "code",
   "execution_count": 4,
   "id": "2e312987",
   "metadata": {},
   "outputs": [],
   "source": [
    "import wave_utils\n",
    "import wave_search_utils\n",
    "\n",
    "# Iterate through all wave type and check for each point\n",
    "try_times = 100\n",
    "for wave_type in wave_utils.get_all_concrete_subclass(waves.Wave):\n",
    "    for i in range(try_times):\n",
    "        wave_dict = wave_utils.generate_from_sample_wave(wave_type)\n",
    "        wave = wave_utils.load_wave_from_dict(wave_dict)\n",
    "        for i in range(2, len(wave.point_list)-1):\n",
    "            comb = wave_search_utils.PointComb(list(range(i)), wave_type, wave.point_list)\n",
    "            comb.update_next_point_limit()\n",
    "            next_point_list = list(comb.get_next_available_points())\n",
    "            if i not in next_point_list:\n",
    "                wave.show_line_chart()\n",
    "                logger.error(f\"Limit failed for {wave_type}, i:{i}, point_list {wave.point_list}, next_point_limit {comb.next_point_limit}\")"
   ]
  },
  {
   "cell_type": "code",
   "execution_count": null,
   "id": "f4561c8a",
   "metadata": {},
   "outputs": [],
   "source": []
  }
 ],
 "metadata": {
  "kernelspec": {
   "display_name": "Python 3 (ipykernel)",
   "language": "python",
   "name": "python3"
  },
  "language_info": {
   "codemirror_mode": {
    "name": "ipython",
    "version": 3
   },
   "file_extension": ".py",
   "mimetype": "text/x-python",
   "name": "python",
   "nbconvert_exporter": "python",
   "pygments_lexer": "ipython3",
   "version": "3.7.4"
  }
 },
 "nbformat": 4,
 "nbformat_minor": 5
}
