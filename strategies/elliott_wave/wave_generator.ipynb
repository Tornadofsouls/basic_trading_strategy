{
 "cells": [
  {
   "cell_type": "markdown",
   "id": "18c57252",
   "metadata": {},
   "source": [
    "# Base definition"
   ]
  },
  {
   "cell_type": "code",
   "execution_count": 1,
   "id": "6e212e6b",
   "metadata": {},
   "outputs": [],
   "source": [
    "%load_ext autoreload\n",
    "%autoreload 2"
   ]
  },
  {
   "cell_type": "code",
   "execution_count": 2,
   "id": "19eab645",
   "metadata": {},
   "outputs": [],
   "source": [
    "import guides\n",
    "import wave_utils"
   ]
  },
  {
   "cell_type": "code",
   "execution_count": 4,
   "id": "46c73146",
   "metadata": {},
   "outputs": [],
   "source": [
    "import waves\n",
    "import wave_utils\n",
    "def find_matching_wave_for_guide(target_guide, target_score, target_wave_type, wave_size = 20, iteration=50000):\n",
    "    min_rules_wave = None\n",
    "    min_rules_num = 100\n",
    "    print(target_wave_type.rule_list)\n",
    "    for i in range(iteration):\n",
    "        wave_point_num = random.randint(target_wave_type.min_point_num, target_wave_type.max_point_num)\n",
    "        point_list = generate_random_points(point_num=wave_point_num, \n",
    "                                            time_offset_list=list(range(wave_size)),\n",
    "                                            price_list=list(range(100, 100+wave_size)))\n",
    "        wave = target_wave_type(point_list)\n",
    "        wave.sub_wave[2] = waves.ExtendImpluseWave()\n",
    "        if not wave.is_valid():\n",
    "            continue\n",
    "        if target_guide.get_score(wave) != target_score:\n",
    "            continue\n",
    "        wave.show_line_chart()\n",
    "        score_reason_dict = wave.get_score_contribution()\n",
    "        print(wave_utils.get_run_code_for_wave(wave))\n",
    "        for score_reason, score in score_reason_dict.items():\n",
    "            print(score, score_reason)\n",
    "        break\n",
    "    print(\"Not finding anything\")\n",
    "        \n",
    "#find_matching_wave_for_guide(guides.DiagonalWaveGuide6, 1, target_wave_type=waves.DiagonalWave)"
   ]
  },
  {
   "cell_type": "code",
   "execution_count": 5,
   "id": "5f9d115c",
   "metadata": {
    "scrolled": true
   },
   "outputs": [],
   "source": [
    "import wave_utils\n",
    "import rules\n",
    "import waves\n",
    "\n",
    "def generate_test_case_for_rule(rule,\n",
    "                                target_wave_type, \n",
    "                                 wave_size = 10,\n",
    "                                 iteration=50000):\n",
    "    print(target_wave_type.rule_list)\n",
    "    min_rules_wave = None\n",
    "    min_rules_num = 100\n",
    "    for i in range(iteration):\n",
    "        wave_point_num = random.randint(target_wave_type.min_point_num, target_wave_type.max_point_num)\n",
    "        \n",
    "        point_list = generate_random_points(point_num=wave_point_num, \n",
    "                                            time_offset_list=list(range(wave_size)),\n",
    "                                            price_list=list(range(100, 100+wave_size)))\n",
    "        wave = target_wave_type(point_list)\n",
    "\n",
    "        if not wave.is_valid():\n",
    "            rules = wave.get_not_valid_rule()\n",
    "            if rule in rules:\n",
    "                if len(rules) < min_rules_num:\n",
    "                    min_rules_num = len(rules)\n",
    "                    min_rules_wave = wave\n",
    "            \n",
    "    min_rules_wave.show_line_chart()\n",
    "    print(rule.desp)\n",
    "    print(wave_utils.get_run_code_for_wave(min_rules_wave))\n",
    "    \n",
    "#generate_test_case_for_rule(rules.Rule30, waves.ExpandingTriangleWave)"
   ]
  },
  {
   "cell_type": "code",
   "execution_count": 25,
   "id": "b79742f8",
   "metadata": {},
   "outputs": [
    {
     "name": "stderr",
     "output_type": "stream",
     "text": [
      "test_guide3 (tests.diagonal_wave_tests.DiagonalWaveTests) ... ok\n",
      "test_guide4 (tests.diagonal_wave_tests.DiagonalWaveTests) ... ok\n",
      "test_guide5 (tests.diagonal_wave_tests.DiagonalWaveTests) ... ok\n",
      "test_guide6 (tests.diagonal_wave_tests.DiagonalWaveTests) ... ok\n",
      "test_rule11 (tests.diagonal_wave_tests.DiagonalWaveTests) ... ok\n",
      "test_rule12 (tests.diagonal_wave_tests.DiagonalWaveTests) ... ok\n",
      "test_rule13 (tests.diagonal_wave_tests.DiagonalWaveTests) ... ok\n",
      "test_rule14 (tests.diagonal_wave_tests.DiagonalWaveTests) ... ok\n",
      "test_rule15 (tests.diagonal_wave_tests.DiagonalWaveTests) ... ok\n",
      "test_rule16 (tests.diagonal_wave_tests.DiagonalWaveTests) ... ok\n",
      "test_rule17 (tests.diagonal_wave_tests.DiagonalWaveTests) ... ok\n",
      "test_rule18 (tests.diagonal_wave_tests.DiagonalWaveTests) ... ok\n",
      "test_rule19 (tests.diagonal_wave_tests.EndingDiagonalWaveTests) ... ok\n",
      "test_expanded_flat_wave (tests.flat_wave_tests.FlatWaveTests) ... ok\n",
      "test_guide_1_2_3 (tests.flat_wave_tests.FlatWaveTests) ... ok\n",
      "test_regular_flat_wave (tests.flat_wave_tests.FlatWaveTests) ... ok\n",
      "test_rule23 (tests.flat_wave_tests.FlatWaveTests) ... ok\n",
      "test_running_flat_wave (tests.flat_wave_tests.FlatWaveTests) ... ok\n",
      "test_PointNumberRule (tests.impluse_wave_tests.ImpluseWaveTests) ... ok\n",
      "test_impluse_wave_combination (tests.impluse_wave_tests.ImpluseWaveTests) ... ok\n",
      "test_impluse_wave_guide_01 (tests.impluse_wave_tests.ImpluseWaveTests) ... ok\n",
      "test_impluse_wave_guide_02 (tests.impluse_wave_tests.ImpluseWaveTests) ... ok\n",
      "test_impluse_wave_guide_03 (tests.impluse_wave_tests.ImpluseWaveTests) ... ok\n",
      "test_impluse_wave_guide_04 (tests.impluse_wave_tests.ImpluseWaveTests) ... ok\n",
      "test_impluse_wave_guide_05 (tests.impluse_wave_tests.ImpluseWaveTests) ... ok\n",
      "test_impluse_wave_guide_06 (tests.impluse_wave_tests.ImpluseWaveTests) ... ok\n",
      "test_impluse_wave_guide_07 (tests.impluse_wave_tests.ImpluseWaveTests) ... ok\n",
      "test_impluse_wave_guide_08 (tests.impluse_wave_tests.ImpluseWaveTests) ... ok\n",
      "test_impluse_wave_guide_09 (tests.impluse_wave_tests.ImpluseWaveTests) ... ok\n",
      "test_impluse_wave_guide_10 (tests.impluse_wave_tests.ImpluseWaveTests) ... ok\n",
      "test_impluse_wave_guide_11 (tests.impluse_wave_tests.ImpluseWaveTests) ... ok\n",
      "test_impluse_wave_guide_12 (tests.impluse_wave_tests.ImpluseWaveTests) ... ok\n",
      "test_impluse_wave_guide_13 (tests.impluse_wave_tests.ImpluseWaveTests) ... ok\n",
      "test_impluse_wave_guide_15 (tests.impluse_wave_tests.ImpluseWaveTests) ... ok\n",
      "test_impluse_wave_guide_16 (tests.impluse_wave_tests.ImpluseWaveTests) ... ok\n",
      "test_impluse_wave_guide_18 (tests.impluse_wave_tests.ImpluseWaveTests) ... ok\n",
      "test_rule0 (tests.impluse_wave_tests.ImpluseWaveTests) ... ok\n",
      "test_rule1 (tests.impluse_wave_tests.ImpluseWaveTests) ... ok\n",
      "test_rule10 (tests.impluse_wave_tests.ImpluseWaveTests) ... ok\n",
      "test_rule2 (tests.impluse_wave_tests.ImpluseWaveTests) ... ok\n",
      "test_rule3 (tests.impluse_wave_tests.ImpluseWaveTests) ... ok\n",
      "test_rule4 (tests.impluse_wave_tests.ImpluseWaveTests) ... ok\n",
      "test_rule5 (tests.impluse_wave_tests.ImpluseWaveTests) ... ok\n",
      "test_rule6_7 (tests.impluse_wave_tests.ImpluseWaveTests) ... ok\n",
      "test_rule8 (tests.impluse_wave_tests.ImpluseWaveTests) ... ok\n",
      "test_rule9 (tests.impluse_wave_tests.ImpluseWaveTests) ... ok\n",
      "test_rule20 (tests.diagonal_wave_tests.LeadingDiagonalWaveTests) ... ok\n",
      "test_rule21 (tests.diagonal_wave_tests.LeadingDiagonalWaveTests) ... ok\n",
      "test_rule25 (tests.triangle_wave_tests.TriangleWaveTests) ... ok\n",
      "test_rule26 (tests.triangle_wave_tests.TriangleWaveTests) ... ok\n",
      "test_rule27 (tests.triangle_wave_tests.TriangleWaveTests) ... ok\n",
      "test_rule28 (tests.triangle_wave_tests.TriangleWaveTests) ... ok\n",
      "test_rule29 (tests.triangle_wave_tests.TriangleWaveTests) ... ok\n",
      "test_rule30 (tests.triangle_wave_tests.TriangleWaveTests) ... ok\n",
      "test_guide_1_2 (tests.zigzag_wave_tests.TripleCombinationWaveTests) ... ok\n",
      "test_get_wave_moving_ratio (tests.wave_utils_tests.WaveUtilsTest) ... ok\n",
      "test_guide_1_2 (tests.zigzag_wave_tests.ZigZagCombinationWaveTests) ... ok\n",
      "test_guide_1_2_3_4_5_7_9 (tests.zigzag_wave_tests.ZigZagWaveTests) ... ok\n",
      "test_guide_8 (tests.zigzag_wave_tests.ZigZagWaveTests) ... ok\n",
      "test_rule22 (tests.zigzag_wave_tests.ZigZagWaveTests) ... ok\n",
      "\n",
      "----------------------------------------------------------------------\n",
      "Ran 60 tests in 0.055s\n",
      "\n",
      "OK\n"
     ]
    },
    {
     "data": {
      "text/plain": [
       "<unittest.main.TestProgram at 0x7f94c75a5fd0>"
      ]
     },
     "execution_count": 25,
     "metadata": {},
     "output_type": "execute_result"
    }
   ],
   "source": [
    "import unittest\n",
    "from tests.diagonal_wave_tests import DiagonalWaveTests\n",
    "from tests.impluse_wave_tests import ImpluseWaveTests\n",
    "from tests.wave_utils_tests import WaveUtilsTest\n",
    "from tests.diagonal_wave_tests import EndingDiagonalWaveTests, LeadingDiagonalWaveTests\n",
    "from tests.zigzag_wave_tests import ZigZagWaveTests, ZigZagCombinationWaveTests, TripleCombinationWaveTests\n",
    "from tests.flat_wave_tests import FlatWaveTests\n",
    "from tests.triangle_wave_tests import TriangleWaveTests\n",
    "\n",
    "unittest.main(argv=[''], verbosity=2, exit=False)"
   ]
  },
  {
   "cell_type": "code",
   "execution_count": 24,
   "id": "212f6483",
   "metadata": {
    "scrolled": true
   },
   "outputs": [
    {
     "data": {
      "application/vnd.plotly.v1+json": {
       "config": {
        "plotlyServerURL": "https://plot.ly"
       },
       "data": [
        {
         "hovertemplate": "time_offset=%{x}<br>price=%{y}<extra></extra>",
         "legendgroup": "",
         "line": {
          "color": "#636efa",
          "dash": "solid"
         },
         "marker": {
          "symbol": "circle"
         },
         "mode": "lines",
         "name": "",
         "orientation": "v",
         "showlegend": false,
         "type": "scatter",
         "x": [
          1,
          3,
          5,
          8,
          11,
          19
         ],
         "xaxis": "x",
         "y": [
          100,
          117,
          101,
          114,
          105,
          118
         ],
         "yaxis": "y"
        }
       ],
       "layout": {
        "legend": {
         "tracegroupgap": 0
        },
        "template": {
         "data": {
          "bar": [
           {
            "error_x": {
             "color": "#2a3f5f"
            },
            "error_y": {
             "color": "#2a3f5f"
            },
            "marker": {
             "line": {
              "color": "#E5ECF6",
              "width": 0.5
             },
             "pattern": {
              "fillmode": "overlay",
              "size": 10,
              "solidity": 0.2
             }
            },
            "type": "bar"
           }
          ],
          "barpolar": [
           {
            "marker": {
             "line": {
              "color": "#E5ECF6",
              "width": 0.5
             },
             "pattern": {
              "fillmode": "overlay",
              "size": 10,
              "solidity": 0.2
             }
            },
            "type": "barpolar"
           }
          ],
          "carpet": [
           {
            "aaxis": {
             "endlinecolor": "#2a3f5f",
             "gridcolor": "white",
             "linecolor": "white",
             "minorgridcolor": "white",
             "startlinecolor": "#2a3f5f"
            },
            "baxis": {
             "endlinecolor": "#2a3f5f",
             "gridcolor": "white",
             "linecolor": "white",
             "minorgridcolor": "white",
             "startlinecolor": "#2a3f5f"
            },
            "type": "carpet"
           }
          ],
          "choropleth": [
           {
            "colorbar": {
             "outlinewidth": 0,
             "ticks": ""
            },
            "type": "choropleth"
           }
          ],
          "contour": [
           {
            "colorbar": {
             "outlinewidth": 0,
             "ticks": ""
            },
            "colorscale": [
             [
              0,
              "#0d0887"
             ],
             [
              0.1111111111111111,
              "#46039f"
             ],
             [
              0.2222222222222222,
              "#7201a8"
             ],
             [
              0.3333333333333333,
              "#9c179e"
             ],
             [
              0.4444444444444444,
              "#bd3786"
             ],
             [
              0.5555555555555556,
              "#d8576b"
             ],
             [
              0.6666666666666666,
              "#ed7953"
             ],
             [
              0.7777777777777778,
              "#fb9f3a"
             ],
             [
              0.8888888888888888,
              "#fdca26"
             ],
             [
              1,
              "#f0f921"
             ]
            ],
            "type": "contour"
           }
          ],
          "contourcarpet": [
           {
            "colorbar": {
             "outlinewidth": 0,
             "ticks": ""
            },
            "type": "contourcarpet"
           }
          ],
          "heatmap": [
           {
            "colorbar": {
             "outlinewidth": 0,
             "ticks": ""
            },
            "colorscale": [
             [
              0,
              "#0d0887"
             ],
             [
              0.1111111111111111,
              "#46039f"
             ],
             [
              0.2222222222222222,
              "#7201a8"
             ],
             [
              0.3333333333333333,
              "#9c179e"
             ],
             [
              0.4444444444444444,
              "#bd3786"
             ],
             [
              0.5555555555555556,
              "#d8576b"
             ],
             [
              0.6666666666666666,
              "#ed7953"
             ],
             [
              0.7777777777777778,
              "#fb9f3a"
             ],
             [
              0.8888888888888888,
              "#fdca26"
             ],
             [
              1,
              "#f0f921"
             ]
            ],
            "type": "heatmap"
           }
          ],
          "heatmapgl": [
           {
            "colorbar": {
             "outlinewidth": 0,
             "ticks": ""
            },
            "colorscale": [
             [
              0,
              "#0d0887"
             ],
             [
              0.1111111111111111,
              "#46039f"
             ],
             [
              0.2222222222222222,
              "#7201a8"
             ],
             [
              0.3333333333333333,
              "#9c179e"
             ],
             [
              0.4444444444444444,
              "#bd3786"
             ],
             [
              0.5555555555555556,
              "#d8576b"
             ],
             [
              0.6666666666666666,
              "#ed7953"
             ],
             [
              0.7777777777777778,
              "#fb9f3a"
             ],
             [
              0.8888888888888888,
              "#fdca26"
             ],
             [
              1,
              "#f0f921"
             ]
            ],
            "type": "heatmapgl"
           }
          ],
          "histogram": [
           {
            "marker": {
             "pattern": {
              "fillmode": "overlay",
              "size": 10,
              "solidity": 0.2
             }
            },
            "type": "histogram"
           }
          ],
          "histogram2d": [
           {
            "colorbar": {
             "outlinewidth": 0,
             "ticks": ""
            },
            "colorscale": [
             [
              0,
              "#0d0887"
             ],
             [
              0.1111111111111111,
              "#46039f"
             ],
             [
              0.2222222222222222,
              "#7201a8"
             ],
             [
              0.3333333333333333,
              "#9c179e"
             ],
             [
              0.4444444444444444,
              "#bd3786"
             ],
             [
              0.5555555555555556,
              "#d8576b"
             ],
             [
              0.6666666666666666,
              "#ed7953"
             ],
             [
              0.7777777777777778,
              "#fb9f3a"
             ],
             [
              0.8888888888888888,
              "#fdca26"
             ],
             [
              1,
              "#f0f921"
             ]
            ],
            "type": "histogram2d"
           }
          ],
          "histogram2dcontour": [
           {
            "colorbar": {
             "outlinewidth": 0,
             "ticks": ""
            },
            "colorscale": [
             [
              0,
              "#0d0887"
             ],
             [
              0.1111111111111111,
              "#46039f"
             ],
             [
              0.2222222222222222,
              "#7201a8"
             ],
             [
              0.3333333333333333,
              "#9c179e"
             ],
             [
              0.4444444444444444,
              "#bd3786"
             ],
             [
              0.5555555555555556,
              "#d8576b"
             ],
             [
              0.6666666666666666,
              "#ed7953"
             ],
             [
              0.7777777777777778,
              "#fb9f3a"
             ],
             [
              0.8888888888888888,
              "#fdca26"
             ],
             [
              1,
              "#f0f921"
             ]
            ],
            "type": "histogram2dcontour"
           }
          ],
          "mesh3d": [
           {
            "colorbar": {
             "outlinewidth": 0,
             "ticks": ""
            },
            "type": "mesh3d"
           }
          ],
          "parcoords": [
           {
            "line": {
             "colorbar": {
              "outlinewidth": 0,
              "ticks": ""
             }
            },
            "type": "parcoords"
           }
          ],
          "pie": [
           {
            "automargin": true,
            "type": "pie"
           }
          ],
          "scatter": [
           {
            "marker": {
             "colorbar": {
              "outlinewidth": 0,
              "ticks": ""
             }
            },
            "type": "scatter"
           }
          ],
          "scatter3d": [
           {
            "line": {
             "colorbar": {
              "outlinewidth": 0,
              "ticks": ""
             }
            },
            "marker": {
             "colorbar": {
              "outlinewidth": 0,
              "ticks": ""
             }
            },
            "type": "scatter3d"
           }
          ],
          "scattercarpet": [
           {
            "marker": {
             "colorbar": {
              "outlinewidth": 0,
              "ticks": ""
             }
            },
            "type": "scattercarpet"
           }
          ],
          "scattergeo": [
           {
            "marker": {
             "colorbar": {
              "outlinewidth": 0,
              "ticks": ""
             }
            },
            "type": "scattergeo"
           }
          ],
          "scattergl": [
           {
            "marker": {
             "colorbar": {
              "outlinewidth": 0,
              "ticks": ""
             }
            },
            "type": "scattergl"
           }
          ],
          "scattermapbox": [
           {
            "marker": {
             "colorbar": {
              "outlinewidth": 0,
              "ticks": ""
             }
            },
            "type": "scattermapbox"
           }
          ],
          "scatterpolar": [
           {
            "marker": {
             "colorbar": {
              "outlinewidth": 0,
              "ticks": ""
             }
            },
            "type": "scatterpolar"
           }
          ],
          "scatterpolargl": [
           {
            "marker": {
             "colorbar": {
              "outlinewidth": 0,
              "ticks": ""
             }
            },
            "type": "scatterpolargl"
           }
          ],
          "scatterternary": [
           {
            "marker": {
             "colorbar": {
              "outlinewidth": 0,
              "ticks": ""
             }
            },
            "type": "scatterternary"
           }
          ],
          "surface": [
           {
            "colorbar": {
             "outlinewidth": 0,
             "ticks": ""
            },
            "colorscale": [
             [
              0,
              "#0d0887"
             ],
             [
              0.1111111111111111,
              "#46039f"
             ],
             [
              0.2222222222222222,
              "#7201a8"
             ],
             [
              0.3333333333333333,
              "#9c179e"
             ],
             [
              0.4444444444444444,
              "#bd3786"
             ],
             [
              0.5555555555555556,
              "#d8576b"
             ],
             [
              0.6666666666666666,
              "#ed7953"
             ],
             [
              0.7777777777777778,
              "#fb9f3a"
             ],
             [
              0.8888888888888888,
              "#fdca26"
             ],
             [
              1,
              "#f0f921"
             ]
            ],
            "type": "surface"
           }
          ],
          "table": [
           {
            "cells": {
             "fill": {
              "color": "#EBF0F8"
             },
             "line": {
              "color": "white"
             }
            },
            "header": {
             "fill": {
              "color": "#C8D4E3"
             },
             "line": {
              "color": "white"
             }
            },
            "type": "table"
           }
          ]
         },
         "layout": {
          "annotationdefaults": {
           "arrowcolor": "#2a3f5f",
           "arrowhead": 0,
           "arrowwidth": 1
          },
          "autotypenumbers": "strict",
          "coloraxis": {
           "colorbar": {
            "outlinewidth": 0,
            "ticks": ""
           }
          },
          "colorscale": {
           "diverging": [
            [
             0,
             "#8e0152"
            ],
            [
             0.1,
             "#c51b7d"
            ],
            [
             0.2,
             "#de77ae"
            ],
            [
             0.3,
             "#f1b6da"
            ],
            [
             0.4,
             "#fde0ef"
            ],
            [
             0.5,
             "#f7f7f7"
            ],
            [
             0.6,
             "#e6f5d0"
            ],
            [
             0.7,
             "#b8e186"
            ],
            [
             0.8,
             "#7fbc41"
            ],
            [
             0.9,
             "#4d9221"
            ],
            [
             1,
             "#276419"
            ]
           ],
           "sequential": [
            [
             0,
             "#0d0887"
            ],
            [
             0.1111111111111111,
             "#46039f"
            ],
            [
             0.2222222222222222,
             "#7201a8"
            ],
            [
             0.3333333333333333,
             "#9c179e"
            ],
            [
             0.4444444444444444,
             "#bd3786"
            ],
            [
             0.5555555555555556,
             "#d8576b"
            ],
            [
             0.6666666666666666,
             "#ed7953"
            ],
            [
             0.7777777777777778,
             "#fb9f3a"
            ],
            [
             0.8888888888888888,
             "#fdca26"
            ],
            [
             1,
             "#f0f921"
            ]
           ],
           "sequentialminus": [
            [
             0,
             "#0d0887"
            ],
            [
             0.1111111111111111,
             "#46039f"
            ],
            [
             0.2222222222222222,
             "#7201a8"
            ],
            [
             0.3333333333333333,
             "#9c179e"
            ],
            [
             0.4444444444444444,
             "#bd3786"
            ],
            [
             0.5555555555555556,
             "#d8576b"
            ],
            [
             0.6666666666666666,
             "#ed7953"
            ],
            [
             0.7777777777777778,
             "#fb9f3a"
            ],
            [
             0.8888888888888888,
             "#fdca26"
            ],
            [
             1,
             "#f0f921"
            ]
           ]
          },
          "colorway": [
           "#636efa",
           "#EF553B",
           "#00cc96",
           "#ab63fa",
           "#FFA15A",
           "#19d3f3",
           "#FF6692",
           "#B6E880",
           "#FF97FF",
           "#FECB52"
          ],
          "font": {
           "color": "#2a3f5f"
          },
          "geo": {
           "bgcolor": "white",
           "lakecolor": "white",
           "landcolor": "#E5ECF6",
           "showlakes": true,
           "showland": true,
           "subunitcolor": "white"
          },
          "hoverlabel": {
           "align": "left"
          },
          "hovermode": "closest",
          "mapbox": {
           "style": "light"
          },
          "paper_bgcolor": "white",
          "plot_bgcolor": "#E5ECF6",
          "polar": {
           "angularaxis": {
            "gridcolor": "white",
            "linecolor": "white",
            "ticks": ""
           },
           "bgcolor": "#E5ECF6",
           "radialaxis": {
            "gridcolor": "white",
            "linecolor": "white",
            "ticks": ""
           }
          },
          "scene": {
           "xaxis": {
            "backgroundcolor": "#E5ECF6",
            "gridcolor": "white",
            "gridwidth": 2,
            "linecolor": "white",
            "showbackground": true,
            "ticks": "",
            "zerolinecolor": "white"
           },
           "yaxis": {
            "backgroundcolor": "#E5ECF6",
            "gridcolor": "white",
            "gridwidth": 2,
            "linecolor": "white",
            "showbackground": true,
            "ticks": "",
            "zerolinecolor": "white"
           },
           "zaxis": {
            "backgroundcolor": "#E5ECF6",
            "gridcolor": "white",
            "gridwidth": 2,
            "linecolor": "white",
            "showbackground": true,
            "ticks": "",
            "zerolinecolor": "white"
           }
          },
          "shapedefaults": {
           "line": {
            "color": "#2a3f5f"
           }
          },
          "ternary": {
           "aaxis": {
            "gridcolor": "white",
            "linecolor": "white",
            "ticks": ""
           },
           "baxis": {
            "gridcolor": "white",
            "linecolor": "white",
            "ticks": ""
           },
           "bgcolor": "#E5ECF6",
           "caxis": {
            "gridcolor": "white",
            "linecolor": "white",
            "ticks": ""
           }
          },
          "title": {
           "x": 0.05
          },
          "xaxis": {
           "automargin": true,
           "gridcolor": "white",
           "linecolor": "white",
           "ticks": "",
           "title": {
            "standoff": 15
           },
           "zerolinecolor": "white",
           "zerolinewidth": 2
          },
          "yaxis": {
           "automargin": true,
           "gridcolor": "white",
           "linecolor": "white",
           "ticks": "",
           "title": {
            "standoff": 15
           },
           "zerolinecolor": "white",
           "zerolinewidth": 2
          }
         }
        },
        "title": {
         "text": "wave"
        },
        "updatemenus": [
         {
          "active": 1,
          "buttons": [
           {
            "args": [
             {
              "visible": [
               true,
               true
              ]
             },
             {
              "title": "Log scale",
              "yaxis": {
               "type": "log"
              }
             }
            ],
            "label": "Log Scale",
            "method": "update"
           },
           {
            "args": [
             {
              "visible": [
               true,
               false
              ]
             },
             {
              "title": "Linear scale",
              "yaxis": {
               "type": "linear"
              }
             }
            ],
            "label": "Linear Scale",
            "method": "update"
           }
          ]
         }
        ],
        "xaxis": {
         "anchor": "y",
         "domain": [
          0,
          1
         ],
         "title": {
          "text": "time_offset"
         }
        },
        "yaxis": {
         "anchor": "x",
         "domain": [
          0,
          1
         ],
         "title": {
          "text": "price"
         }
        }
       }
      },
      "text/html": [
       "<div>                            <div id=\"8530dbd1-ed3d-4306-88a7-8b801e24d43d\" class=\"plotly-graph-div\" style=\"height:525px; width:100%;\"></div>            <script type=\"text/javascript\">                require([\"plotly\"], function(Plotly) {                    window.PLOTLYENV=window.PLOTLYENV || {};                                    if (document.getElementById(\"8530dbd1-ed3d-4306-88a7-8b801e24d43d\")) {                    Plotly.newPlot(                        \"8530dbd1-ed3d-4306-88a7-8b801e24d43d\",                        [{\"hovertemplate\":\"time_offset=%{x}<br>price=%{y}<extra></extra>\",\"legendgroup\":\"\",\"line\":{\"color\":\"#636efa\",\"dash\":\"solid\"},\"marker\":{\"symbol\":\"circle\"},\"mode\":\"lines\",\"name\":\"\",\"orientation\":\"v\",\"showlegend\":false,\"type\":\"scatter\",\"x\":[1,3,5,8,11,19],\"xaxis\":\"x\",\"y\":[100,117,101,114,105,118],\"yaxis\":\"y\"}],                        {\"legend\":{\"tracegroupgap\":0},\"template\":{\"data\":{\"bar\":[{\"error_x\":{\"color\":\"#2a3f5f\"},\"error_y\":{\"color\":\"#2a3f5f\"},\"marker\":{\"line\":{\"color\":\"#E5ECF6\",\"width\":0.5},\"pattern\":{\"fillmode\":\"overlay\",\"size\":10,\"solidity\":0.2}},\"type\":\"bar\"}],\"barpolar\":[{\"marker\":{\"line\":{\"color\":\"#E5ECF6\",\"width\":0.5},\"pattern\":{\"fillmode\":\"overlay\",\"size\":10,\"solidity\":0.2}},\"type\":\"barpolar\"}],\"carpet\":[{\"aaxis\":{\"endlinecolor\":\"#2a3f5f\",\"gridcolor\":\"white\",\"linecolor\":\"white\",\"minorgridcolor\":\"white\",\"startlinecolor\":\"#2a3f5f\"},\"baxis\":{\"endlinecolor\":\"#2a3f5f\",\"gridcolor\":\"white\",\"linecolor\":\"white\",\"minorgridcolor\":\"white\",\"startlinecolor\":\"#2a3f5f\"},\"type\":\"carpet\"}],\"choropleth\":[{\"colorbar\":{\"outlinewidth\":0,\"ticks\":\"\"},\"type\":\"choropleth\"}],\"contour\":[{\"colorbar\":{\"outlinewidth\":0,\"ticks\":\"\"},\"colorscale\":[[0.0,\"#0d0887\"],[0.1111111111111111,\"#46039f\"],[0.2222222222222222,\"#7201a8\"],[0.3333333333333333,\"#9c179e\"],[0.4444444444444444,\"#bd3786\"],[0.5555555555555556,\"#d8576b\"],[0.6666666666666666,\"#ed7953\"],[0.7777777777777778,\"#fb9f3a\"],[0.8888888888888888,\"#fdca26\"],[1.0,\"#f0f921\"]],\"type\":\"contour\"}],\"contourcarpet\":[{\"colorbar\":{\"outlinewidth\":0,\"ticks\":\"\"},\"type\":\"contourcarpet\"}],\"heatmap\":[{\"colorbar\":{\"outlinewidth\":0,\"ticks\":\"\"},\"colorscale\":[[0.0,\"#0d0887\"],[0.1111111111111111,\"#46039f\"],[0.2222222222222222,\"#7201a8\"],[0.3333333333333333,\"#9c179e\"],[0.4444444444444444,\"#bd3786\"],[0.5555555555555556,\"#d8576b\"],[0.6666666666666666,\"#ed7953\"],[0.7777777777777778,\"#fb9f3a\"],[0.8888888888888888,\"#fdca26\"],[1.0,\"#f0f921\"]],\"type\":\"heatmap\"}],\"heatmapgl\":[{\"colorbar\":{\"outlinewidth\":0,\"ticks\":\"\"},\"colorscale\":[[0.0,\"#0d0887\"],[0.1111111111111111,\"#46039f\"],[0.2222222222222222,\"#7201a8\"],[0.3333333333333333,\"#9c179e\"],[0.4444444444444444,\"#bd3786\"],[0.5555555555555556,\"#d8576b\"],[0.6666666666666666,\"#ed7953\"],[0.7777777777777778,\"#fb9f3a\"],[0.8888888888888888,\"#fdca26\"],[1.0,\"#f0f921\"]],\"type\":\"heatmapgl\"}],\"histogram\":[{\"marker\":{\"pattern\":{\"fillmode\":\"overlay\",\"size\":10,\"solidity\":0.2}},\"type\":\"histogram\"}],\"histogram2d\":[{\"colorbar\":{\"outlinewidth\":0,\"ticks\":\"\"},\"colorscale\":[[0.0,\"#0d0887\"],[0.1111111111111111,\"#46039f\"],[0.2222222222222222,\"#7201a8\"],[0.3333333333333333,\"#9c179e\"],[0.4444444444444444,\"#bd3786\"],[0.5555555555555556,\"#d8576b\"],[0.6666666666666666,\"#ed7953\"],[0.7777777777777778,\"#fb9f3a\"],[0.8888888888888888,\"#fdca26\"],[1.0,\"#f0f921\"]],\"type\":\"histogram2d\"}],\"histogram2dcontour\":[{\"colorbar\":{\"outlinewidth\":0,\"ticks\":\"\"},\"colorscale\":[[0.0,\"#0d0887\"],[0.1111111111111111,\"#46039f\"],[0.2222222222222222,\"#7201a8\"],[0.3333333333333333,\"#9c179e\"],[0.4444444444444444,\"#bd3786\"],[0.5555555555555556,\"#d8576b\"],[0.6666666666666666,\"#ed7953\"],[0.7777777777777778,\"#fb9f3a\"],[0.8888888888888888,\"#fdca26\"],[1.0,\"#f0f921\"]],\"type\":\"histogram2dcontour\"}],\"mesh3d\":[{\"colorbar\":{\"outlinewidth\":0,\"ticks\":\"\"},\"type\":\"mesh3d\"}],\"parcoords\":[{\"line\":{\"colorbar\":{\"outlinewidth\":0,\"ticks\":\"\"}},\"type\":\"parcoords\"}],\"pie\":[{\"automargin\":true,\"type\":\"pie\"}],\"scatter\":[{\"marker\":{\"colorbar\":{\"outlinewidth\":0,\"ticks\":\"\"}},\"type\":\"scatter\"}],\"scatter3d\":[{\"line\":{\"colorbar\":{\"outlinewidth\":0,\"ticks\":\"\"}},\"marker\":{\"colorbar\":{\"outlinewidth\":0,\"ticks\":\"\"}},\"type\":\"scatter3d\"}],\"scattercarpet\":[{\"marker\":{\"colorbar\":{\"outlinewidth\":0,\"ticks\":\"\"}},\"type\":\"scattercarpet\"}],\"scattergeo\":[{\"marker\":{\"colorbar\":{\"outlinewidth\":0,\"ticks\":\"\"}},\"type\":\"scattergeo\"}],\"scattergl\":[{\"marker\":{\"colorbar\":{\"outlinewidth\":0,\"ticks\":\"\"}},\"type\":\"scattergl\"}],\"scattermapbox\":[{\"marker\":{\"colorbar\":{\"outlinewidth\":0,\"ticks\":\"\"}},\"type\":\"scattermapbox\"}],\"scatterpolar\":[{\"marker\":{\"colorbar\":{\"outlinewidth\":0,\"ticks\":\"\"}},\"type\":\"scatterpolar\"}],\"scatterpolargl\":[{\"marker\":{\"colorbar\":{\"outlinewidth\":0,\"ticks\":\"\"}},\"type\":\"scatterpolargl\"}],\"scatterternary\":[{\"marker\":{\"colorbar\":{\"outlinewidth\":0,\"ticks\":\"\"}},\"type\":\"scatterternary\"}],\"surface\":[{\"colorbar\":{\"outlinewidth\":0,\"ticks\":\"\"},\"colorscale\":[[0.0,\"#0d0887\"],[0.1111111111111111,\"#46039f\"],[0.2222222222222222,\"#7201a8\"],[0.3333333333333333,\"#9c179e\"],[0.4444444444444444,\"#bd3786\"],[0.5555555555555556,\"#d8576b\"],[0.6666666666666666,\"#ed7953\"],[0.7777777777777778,\"#fb9f3a\"],[0.8888888888888888,\"#fdca26\"],[1.0,\"#f0f921\"]],\"type\":\"surface\"}],\"table\":[{\"cells\":{\"fill\":{\"color\":\"#EBF0F8\"},\"line\":{\"color\":\"white\"}},\"header\":{\"fill\":{\"color\":\"#C8D4E3\"},\"line\":{\"color\":\"white\"}},\"type\":\"table\"}]},\"layout\":{\"annotationdefaults\":{\"arrowcolor\":\"#2a3f5f\",\"arrowhead\":0,\"arrowwidth\":1},\"autotypenumbers\":\"strict\",\"coloraxis\":{\"colorbar\":{\"outlinewidth\":0,\"ticks\":\"\"}},\"colorscale\":{\"diverging\":[[0,\"#8e0152\"],[0.1,\"#c51b7d\"],[0.2,\"#de77ae\"],[0.3,\"#f1b6da\"],[0.4,\"#fde0ef\"],[0.5,\"#f7f7f7\"],[0.6,\"#e6f5d0\"],[0.7,\"#b8e186\"],[0.8,\"#7fbc41\"],[0.9,\"#4d9221\"],[1,\"#276419\"]],\"sequential\":[[0.0,\"#0d0887\"],[0.1111111111111111,\"#46039f\"],[0.2222222222222222,\"#7201a8\"],[0.3333333333333333,\"#9c179e\"],[0.4444444444444444,\"#bd3786\"],[0.5555555555555556,\"#d8576b\"],[0.6666666666666666,\"#ed7953\"],[0.7777777777777778,\"#fb9f3a\"],[0.8888888888888888,\"#fdca26\"],[1.0,\"#f0f921\"]],\"sequentialminus\":[[0.0,\"#0d0887\"],[0.1111111111111111,\"#46039f\"],[0.2222222222222222,\"#7201a8\"],[0.3333333333333333,\"#9c179e\"],[0.4444444444444444,\"#bd3786\"],[0.5555555555555556,\"#d8576b\"],[0.6666666666666666,\"#ed7953\"],[0.7777777777777778,\"#fb9f3a\"],[0.8888888888888888,\"#fdca26\"],[1.0,\"#f0f921\"]]},\"colorway\":[\"#636efa\",\"#EF553B\",\"#00cc96\",\"#ab63fa\",\"#FFA15A\",\"#19d3f3\",\"#FF6692\",\"#B6E880\",\"#FF97FF\",\"#FECB52\"],\"font\":{\"color\":\"#2a3f5f\"},\"geo\":{\"bgcolor\":\"white\",\"lakecolor\":\"white\",\"landcolor\":\"#E5ECF6\",\"showlakes\":true,\"showland\":true,\"subunitcolor\":\"white\"},\"hoverlabel\":{\"align\":\"left\"},\"hovermode\":\"closest\",\"mapbox\":{\"style\":\"light\"},\"paper_bgcolor\":\"white\",\"plot_bgcolor\":\"#E5ECF6\",\"polar\":{\"angularaxis\":{\"gridcolor\":\"white\",\"linecolor\":\"white\",\"ticks\":\"\"},\"bgcolor\":\"#E5ECF6\",\"radialaxis\":{\"gridcolor\":\"white\",\"linecolor\":\"white\",\"ticks\":\"\"}},\"scene\":{\"xaxis\":{\"backgroundcolor\":\"#E5ECF6\",\"gridcolor\":\"white\",\"gridwidth\":2,\"linecolor\":\"white\",\"showbackground\":true,\"ticks\":\"\",\"zerolinecolor\":\"white\"},\"yaxis\":{\"backgroundcolor\":\"#E5ECF6\",\"gridcolor\":\"white\",\"gridwidth\":2,\"linecolor\":\"white\",\"showbackground\":true,\"ticks\":\"\",\"zerolinecolor\":\"white\"},\"zaxis\":{\"backgroundcolor\":\"#E5ECF6\",\"gridcolor\":\"white\",\"gridwidth\":2,\"linecolor\":\"white\",\"showbackground\":true,\"ticks\":\"\",\"zerolinecolor\":\"white\"}},\"shapedefaults\":{\"line\":{\"color\":\"#2a3f5f\"}},\"ternary\":{\"aaxis\":{\"gridcolor\":\"white\",\"linecolor\":\"white\",\"ticks\":\"\"},\"baxis\":{\"gridcolor\":\"white\",\"linecolor\":\"white\",\"ticks\":\"\"},\"bgcolor\":\"#E5ECF6\",\"caxis\":{\"gridcolor\":\"white\",\"linecolor\":\"white\",\"ticks\":\"\"}},\"title\":{\"x\":0.05},\"xaxis\":{\"automargin\":true,\"gridcolor\":\"white\",\"linecolor\":\"white\",\"ticks\":\"\",\"title\":{\"standoff\":15},\"zerolinecolor\":\"white\",\"zerolinewidth\":2},\"yaxis\":{\"automargin\":true,\"gridcolor\":\"white\",\"linecolor\":\"white\",\"ticks\":\"\",\"title\":{\"standoff\":15},\"zerolinecolor\":\"white\",\"zerolinewidth\":2}}},\"title\":{\"text\":\"wave\"},\"updatemenus\":[{\"active\":1,\"buttons\":[{\"args\":[{\"visible\":[true,true]},{\"title\":\"Log scale\",\"yaxis\":{\"type\":\"log\"}}],\"label\":\"Log Scale\",\"method\":\"update\"},{\"args\":[{\"visible\":[true,false]},{\"title\":\"Linear scale\",\"yaxis\":{\"type\":\"linear\"}}],\"label\":\"Linear Scale\",\"method\":\"update\"}]}],\"xaxis\":{\"anchor\":\"y\",\"domain\":[0.0,1.0],\"title\":{\"text\":\"time_offset\"}},\"yaxis\":{\"anchor\":\"x\",\"domain\":[0.0,1.0],\"title\":{\"text\":\"price\"}}},                        {\"responsive\": true}                    ).then(function(){\n",
       "                            \n",
       "var gd = document.getElementById('8530dbd1-ed3d-4306-88a7-8b801e24d43d');\n",
       "var x = new MutationObserver(function (mutations, observer) {{\n",
       "        var display = window.getComputedStyle(gd).display;\n",
       "        if (!display || display === 'none') {{\n",
       "            console.log([gd, 'removed!']);\n",
       "            Plotly.purge(gd);\n",
       "            observer.disconnect();\n",
       "        }}\n",
       "}});\n",
       "\n",
       "// Listen for the removal of the full notebook cells\n",
       "var notebookContainer = gd.closest('#notebook-container');\n",
       "if (notebookContainer) {{\n",
       "    x.observe(notebookContainer, {childList: true});\n",
       "}}\n",
       "\n",
       "// Listen for the clearing of the current output cell\n",
       "var outputEl = gd.closest('.output');\n",
       "if (outputEl) {{\n",
       "    x.observe(outputEl, {childList: true});\n",
       "}}\n",
       "\n",
       "                        })                };                });            </script>        </div>"
      ]
     },
     "metadata": {},
     "output_type": "display_data"
    },
    {
     "name": "stdout",
     "output_type": "stream",
     "text": [
      "wave_utils.load_wave_from_dict({'type': 'TripleCombinationWave', 'points': [{'time_offset': 1, 'price': 100}, {'time_offset': 3, 'price': 117}, {'time_offset': 5, 'price': 101}, {'time_offset': 8, 'price': 114}, {'time_offset': 11, 'price': 105}, {'time_offset': 19, 'price': 118}], 'sub_wave': [{'type': 'TripleCombinationWave', 'points': [], 'sub_wave': []}, {'type': 'TripleCombinationWave', 'points': [], 'sub_wave': []}, {'type': 'TripleCombinationWave', 'points': [], 'sub_wave': []}, {'type': 'TripleCombinationWave', 'points': [], 'sub_wave': []}, {'type': 'TripleCombinationWave', 'points': [], 'sub_wave': []}]})\n",
      "1 双重、三重平台形调整浪的第一个调整浪已经产生足够的价格调整，所以浪C与浪B的位移差应该小于浪A的数量级\n",
      "1 双重、三重平台形调整浪的第一个调整浪已经产生足够的价格调整，所以浪E终点应该距离浪A比较近\n"
     ]
    }
   ],
   "source": [
    "\n",
    "\n",
    "#generate_and_save_max_score_wave(target_wave_type=waves.ContractingTriangleWave, iteration=30000)\n",
    "score, wave_list = wave_utils.generate_wave_point_list(waves.TripleCombinationWave, wave_size=20, iteration=500)\n",
    "wave_utils.print_wave_info(wave_list[0])"
   ]
  },
  {
   "cell_type": "code",
   "execution_count": null,
   "id": "6c01d7ee",
   "metadata": {},
   "outputs": [],
   "source": [
    "wave = wave_utils.load_wave_from_dict({'type': 'ContractingTriangleWave', 'points': [{'time_offset': 0, 'price': 109}, {'time_offset': 4, 'price': 119}, {'time_offset': 9, 'price': 102}, {'time_offset': 12, 'price': 118}, {'time_offset': 13, 'price': 106}, {'time_offset': 14, 'price': 110}], 'sub_wave': [{'type': 'ZigZagWave', 'points': [], 'sub_wave': []}, {'type': 'ZigZagWave', 'points': [], 'sub_wave': []}, {'type': 'ZigZagCombinationWave', 'points': [], 'sub_wave': []}, {'type': 'ZigZagWave', 'points': [], 'sub_wave': []}, {'type': 'ZigZagWave', 'points': [], 'sub_wave': []}]})\n",
    "#combinations = wave.get_possible_subwave_combination()\n",
    "#combinations"
   ]
  },
  {
   "cell_type": "code",
   "execution_count": null,
   "id": "a69a01ad",
   "metadata": {},
   "outputs": [],
   "source": [
    "%load_ext autoreload\n",
    "%autoreload 2"
   ]
  },
  {
   "cell_type": "markdown",
   "id": "da6c08de",
   "metadata": {},
   "source": [
    "[x] Write code to serialize / deserialize wave to json\n",
    "\n",
    "[x] For each wave type, run generate to generate some sample wave\n",
    "\n",
    "[] Keep writing new rules and guides for all waves.\n",
    " - ZigZagWave\n",
    "\n",
    "[] Make wave scale proportionally\n",
    "\n",
    "[] Recursively generate wave."
   ]
  },
  {
   "cell_type": "code",
   "execution_count": null,
   "id": "c6927d47",
   "metadata": {},
   "outputs": [],
   "source": [
    "import wave_utils\n",
    "import waves\n",
    "import rules\n",
    "wave_list = wave_utils.expand_wave_type_to_concrete([waves.Wave])\n",
    "for wave_type in wave_list:\n",
    "    print(wave_type, wave_type.rule_list)\n",
    "#print(wave_utils.get_possible_subwave_combination(waves.TripleCombinationWave))"
   ]
  }
 ],
 "metadata": {
  "kernelspec": {
   "display_name": "Python 3 (ipykernel)",
   "language": "python",
   "name": "python3"
  },
  "language_info": {
   "codemirror_mode": {
    "name": "ipython",
    "version": 3
   },
   "file_extension": ".py",
   "mimetype": "text/x-python",
   "name": "python",
   "nbconvert_exporter": "python",
   "pygments_lexer": "ipython3",
   "version": "3.8.5"
  }
 },
 "nbformat": 4,
 "nbformat_minor": 5
}
