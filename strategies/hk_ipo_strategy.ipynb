{
 "cells": [
  {
   "cell_type": "code",
   "execution_count": 1,
   "id": "c325a663",
   "metadata": {},
   "outputs": [],
   "source": [
    "import livermore\n",
    "import livermore.backend\n",
    "import datetime\n",
    "from utils.system_configs import livermore_config"
   ]
  },
  {
   "cell_type": "code",
   "execution_count": 2,
   "id": "5536b09c",
   "metadata": {},
   "outputs": [],
   "source": [
    "# 登陆\n",
    "backend = livermore.backend.TradeBackend(key=livermore_config[\"key\"], secret=livermore_config[\"secret\"])"
   ]
  },
  {
   "cell_type": "code",
   "execution_count": 4,
   "id": "b3b5fb8b",
   "metadata": {},
   "outputs": [],
   "source": [
    "import pandas\n",
    "pandas.options.display.max_columns = None\n",
    "from utils.email_util import send_email\n"
   ]
  },
  {
   "cell_type": "markdown",
   "id": "0f700254",
   "metadata": {},
   "source": [
    "# Sell Holding Stock"
   ]
  },
  {
   "cell_type": "code",
   "execution_count": 123,
   "id": "1bfe3fdc",
   "metadata": {},
   "outputs": [],
   "source": [
    "def get_holding_stock_df():\n",
    "    stock_list = backend.get_stock_info(ignore_clean_stock=\"0\", exchange_type=\"ALL\")[\"data\"][\"list\"]\n",
    "    stock_list_df = pandas.DataFrame.from_dict(stock_list)\n",
    "    stock_list_df\n",
    "    return stock_list_df\n",
    "\n",
    "def get_cancelable_order_df():\n",
    "    order_list = backend.get_withdraw()[\"data\"][\"list\"]\n",
    "    order_list_df = pandas.DataFrame.from_dict(order_list)\n",
    "    order_list_df\n",
    "    return order_list_df\n",
    "\n",
    "def cancel_all_orders():\n",
    "    order_list_df = get_cancelable_order_df()\n",
    "    for ix, order_row in order_list_df.iterrows():\n",
    "        backend.entrust_withdraw(batch_flag=\"0\", \n",
    "                                 entrust_amount=order_row[\"entrust_amount\"],\n",
    "                                 entrust_price=order_row[\"entrust_price\"],\n",
    "                                 entrust_no_first=order_row[\"entrust_no\"], \n",
    "                                 stock_code=order_row[\"stock_code\"], \n",
    "                                 entrust_type=\"2\", \n",
    "                                 exchange_type=order_row[\"exchange_type\"], \n",
    "                                 session_type=\"0\")"
   ]
  },
  {
   "cell_type": "code",
   "execution_count": 124,
   "id": "d6c4461b",
   "metadata": {},
   "outputs": [
    {
     "data": {
      "text/html": [
       "<div>\n",
       "<style scoped>\n",
       "    .dataframe tbody tr th:only-of-type {\n",
       "        vertical-align: middle;\n",
       "    }\n",
       "\n",
       "    .dataframe tbody tr th {\n",
       "        vertical-align: top;\n",
       "    }\n",
       "\n",
       "    .dataframe thead th {\n",
       "        text-align: right;\n",
       "    }\n",
       "</style>\n",
       "<table border=\"1\" class=\"dataframe\">\n",
       "  <thead>\n",
       "    <tr style=\"text-align: right;\">\n",
       "      <th></th>\n",
       "      <th>lm_daily_income_balance</th>\n",
       "      <th>market_value</th>\n",
       "      <th>stock_code</th>\n",
       "      <th>income_balance</th>\n",
       "      <th>current_amount</th>\n",
       "      <th>enable_amount</th>\n",
       "      <th>real_sell_balance</th>\n",
       "      <th>last_price</th>\n",
       "      <th>position_str</th>\n",
       "      <th>money_type</th>\n",
       "      <th>real_buy_balance</th>\n",
       "      <th>real_sell_amount</th>\n",
       "      <th>stock_namegb</th>\n",
       "      <th>income_BalancePercent</th>\n",
       "      <th>close_price</th>\n",
       "      <th>hq_type_code</th>\n",
       "      <th>fund_account</th>\n",
       "      <th>real_buy_amount</th>\n",
       "      <th>keep_cost_price</th>\n",
       "      <th>finance_mic</th>\n",
       "    </tr>\n",
       "  </thead>\n",
       "  <tbody>\n",
       "    <tr>\n",
       "      <th>0</th>\n",
       "      <td>-215.170</td>\n",
       "      <td>0.00000000</td>\n",
       "      <td>02177</td>\n",
       "      <td>-340.01</td>\n",
       "      <td>0.000000</td>\n",
       "      <td>0.000000</td>\n",
       "      <td>2156.83</td>\n",
       "      <td>10.100</td>\n",
       "      <td>00100000K6285811900002177</td>\n",
       "      <td>2</td>\n",
       "      <td>0.00</td>\n",
       "      <td>200.000000</td>\n",
       "      <td>优趣汇控股</td>\n",
       "      <td></td>\n",
       "      <td>11.86000000</td>\n",
       "      <td>XHKG-M.ES</td>\n",
       "      <td>762858119</td>\n",
       "      <td>0.000000</td>\n",
       "      <td>12.48420000</td>\n",
       "      <td>HK</td>\n",
       "    </tr>\n",
       "  </tbody>\n",
       "</table>\n",
       "</div>"
      ],
      "text/plain": [
       "  lm_daily_income_balance market_value stock_code income_balance  \\\n",
       "0                -215.170   0.00000000      02177        -340.01   \n",
       "\n",
       "  current_amount enable_amount real_sell_balance last_price  \\\n",
       "0       0.000000      0.000000           2156.83     10.100   \n",
       "\n",
       "                position_str money_type real_buy_balance real_sell_amount  \\\n",
       "0  00100000K6285811900002177          2             0.00       200.000000   \n",
       "\n",
       "  stock_namegb income_BalancePercent  close_price hq_type_code fund_account  \\\n",
       "0        优趣汇控股                        11.86000000    XHKG-M.ES    762858119   \n",
       "\n",
       "  real_buy_amount keep_cost_price finance_mic  \n",
       "0        0.000000     12.48420000          HK  "
      ]
     },
     "execution_count": 124,
     "metadata": {},
     "output_type": "execute_result"
    }
   ],
   "source": [
    "get_holding_stock_df()"
   ]
  },
  {
   "cell_type": "code",
   "execution_count": 125,
   "id": "0b1565c2",
   "metadata": {},
   "outputs": [],
   "source": [
    "# Sell current holding stock\n",
    "current_stock_df = get_holding_stock_df()\n",
    "sold_stock_map = {}\n",
    "\n",
    "for ix, stock_row in current_stock_df.iterrows():\n",
    "    stock_name = stock_row[\"stock_namegb\"]\n",
    "    stock_code = stock_row[\"stock_code\"]\n",
    "    amount = stock_row[\"current_amount\"]\n",
    "    keep_cost_price = float(stock_row[\"keep_cost_price\"])\n",
    "    if float(amount) == 0:\n",
    "        continue\n",
    "    price = str(float(stock_row[\"last_price\"]))\n",
    "    result = backend.entrust_stock(stock_code=stock_code, \n",
    "                          entrust_amount=amount, \n",
    "                          entrust_price=price, \n",
    "                          entrust_bs=\"2\",  # 卖出\n",
    "                          entrust_type=\"0\", # 买卖\n",
    "                          entrust_prop=\"h\", \n",
    "                          auto_exchange=\"True\",\n",
    "                          session_type=\"0\") # 0 正股，2 暗盘\n",
    "    if result[\"code\"] != 0:\n",
    "        print(f\"Failed to create sell order for stock {stock_name}\")\n",
    "        print(result)\n",
    "    else:\n",
    "        sold_stock_map[stock_name] = {\n",
    "            \"price\" : price,\n",
    "            \"amount\" : amount,\n",
    "            \"cost_price\": keep_cost_price\n",
    "        }"
   ]
  },
  {
   "cell_type": "code",
   "execution_count": 126,
   "id": "6a761ec0",
   "metadata": {},
   "outputs": [
    {
     "data": {
      "text/html": [
       "<div>\n",
       "<style scoped>\n",
       "    .dataframe tbody tr th:only-of-type {\n",
       "        vertical-align: middle;\n",
       "    }\n",
       "\n",
       "    .dataframe tbody tr th {\n",
       "        vertical-align: top;\n",
       "    }\n",
       "\n",
       "    .dataframe thead th {\n",
       "        text-align: right;\n",
       "    }\n",
       "</style>\n",
       "<table border=\"1\" class=\"dataframe\">\n",
       "  <thead>\n",
       "    <tr style=\"text-align: right;\">\n",
       "      <th></th>\n",
       "    </tr>\n",
       "  </thead>\n",
       "  <tbody>\n",
       "  </tbody>\n",
       "</table>\n",
       "</div>"
      ],
      "text/plain": [
       "Empty DataFrame\n",
       "Columns: []\n",
       "Index: []"
      ]
     },
     "execution_count": 126,
     "metadata": {},
     "output_type": "execute_result"
    }
   ],
   "source": [
    "get_cancelable_order_df()"
   ]
  },
  {
   "cell_type": "markdown",
   "id": "55e09f62",
   "metadata": {},
   "source": [
    "# Check new allotted stock"
   ]
  },
  {
   "cell_type": "code",
   "execution_count": 127,
   "id": "e10ab73b",
   "metadata": {},
   "outputs": [
    {
     "name": "stderr",
     "output_type": "stream",
     "text": [
      "c:\\vnstudio\\lib\\site-packages\\ipykernel_launcher.py:21: UserWarning: Boolean Series key will be reindexed to match DataFrame index.\n"
     ]
    },
    {
     "data": {
      "text/html": [
       "<div>\n",
       "<style scoped>\n",
       "    .dataframe tbody tr th:only-of-type {\n",
       "        vertical-align: middle;\n",
       "    }\n",
       "\n",
       "    .dataframe tbody tr th {\n",
       "        vertical-align: top;\n",
       "    }\n",
       "\n",
       "    .dataframe thead th {\n",
       "        text-align: right;\n",
       "    }\n",
       "</style>\n",
       "<table border=\"1\" class=\"dataframe\">\n",
       "  <thead>\n",
       "    <tr style=\"text-align: right;\">\n",
       "      <th></th>\n",
       "      <th>status</th>\n",
       "      <th>stock_namegb</th>\n",
       "      <th>apply_amount</th>\n",
       "      <th>max_price</th>\n",
       "      <th>quantity_allotted</th>\n",
       "      <th>trading_date</th>\n",
       "      <th>deposit_date</th>\n",
       "    </tr>\n",
       "  </thead>\n",
       "  <tbody>\n",
       "    <tr>\n",
       "      <th>5</th>\n",
       "      <td>4</td>\n",
       "      <td>华南职业教育</td>\n",
       "      <td>4060.51</td>\n",
       "      <td>2.01000000</td>\n",
       "      <td>0</td>\n",
       "      <td>20210713</td>\n",
       "      <td>20210712</td>\n",
       "    </tr>\n",
       "  </tbody>\n",
       "</table>\n",
       "</div>"
      ],
      "text/plain": [
       "  status stock_namegb apply_amount   max_price quantity_allotted trading_date  \\\n",
       "5      4       华南职业教育      4060.51  2.01000000                 0     20210713   \n",
       "\n",
       "  deposit_date  \n",
       "5     20210712  "
      ]
     },
     "execution_count": 127,
     "metadata": {},
     "output_type": "execute_result"
    }
   ],
   "source": [
    "new_stock_allotted = {}\n",
    "\n",
    "def get_applied_ipo_info_list():\n",
    "    data_list = []\n",
    "    is_last = False\n",
    "    last_position_str = \"2050\"\n",
    "    while not is_last:\n",
    "        result = backend.get_ipo_detail(last_position_str)\n",
    "        data_list += result[\"data\"][\"data_list\"]\n",
    "        is_last = result[\"data\"][\"is_last\"]\n",
    "        last_position_str = result[\"data\"][\"last_position_str\"]\n",
    "    return data_list\n",
    "\n",
    "def get_applied_ipo_code_map():\n",
    "    data_list = get_applied_ipo_info_list()\n",
    "    applied_code_map = { x[\"stock_code\"]:x[\"deposit_amount\"] for x in data_list }\n",
    "    return applied_code_map\n",
    "\n",
    "today_str = datetime.datetime.today().strftime(\"%Y%m%d\")\n",
    "ipo_apply_df = pandas.DataFrame.from_dict(get_applied_ipo_info_list())\n",
    "ipo_apply_df = ipo_apply_df[ipo_apply_df[\"status\"] > \"2\"][ipo_apply_df[\"trading_date\"] > today_str]\n",
    "\n",
    "for ix, stock_row in ipo_apply_df.iterrows():\n",
    "    stock_name = stock_row[\"stock_namegb\"]\n",
    "    amount = float(stock_row[\"quantity_allotted\"])\n",
    "    apply_amount = stock_row[\"apply_amount\"]\n",
    "    if amount == 0:\n",
    "        continue\n",
    "    new_stock_allotted[stock_name] = apply_amount\n",
    "    print(f\"新股中签：{amount}股{stock_name}共计{apply_amount}元\")\n",
    "\n",
    "ipo_apply_df[[\"status\", \"stock_namegb\", \"apply_amount\", \"max_price\", \"quantity_allotted\", \"trading_date\", \"deposit_date\"]]"
   ]
  },
  {
   "cell_type": "code",
   "execution_count": 128,
   "id": "5b481f83",
   "metadata": {},
   "outputs": [],
   "source": [
    "def apply_one_hand_ipo(stock_code, user_fund, future_fund):\n",
    "    print(f\"Applying for code {stock_code}\")\n",
    "    ipo_number = backend.get_ipo_number(stock_code)\n",
    "    ipo_number[\"data\"][\"ipo_numbers\"]\n",
    "    ipo_num_df = pandas.DataFrame.from_dict(ipo_number[\"data\"][\"ipo_numbers\"])\n",
    "    first_row = ipo_num_df.iloc[0,:]\n",
    "    quantity_apply = first_row[\"shared_applied\"]\n",
    "    apply_amount = first_row[\"applied_amount\"]\n",
    "    deposit_amount = first_row.get(\"min_cash\", apply_amount)\n",
    "    \n",
    "    if user_fund < float(deposit_amount):\n",
    "        if future_fund < float(deposit_amount):\n",
    "            msg = f\"打新钱不够。当前余额{user_fund} 需要: {deposit_amount}, 截止日: {future_fund}\"\n",
    "            return False, msg\n",
    "        else:\n",
    "            msg = f\"暂时打新钱不够。当前余额{user_fund} 需要: {deposit_amount}, 截止日: {future_fund}\"\n",
    "            return False, msg\n",
    "    \n",
    "    apply_result = backend.set_ipo_detail(stock_code, quantity_apply=quantity_apply, apply_amount=apply_amount, deposit_rate=\"0\", deposit_amount=deposit_amount, type_=\"1\", action_in=\"0\")\n",
    "    apply_result\n",
    "    \n",
    "    if apply_result[\"code\"] == 0:\n",
    "        msg = f\"apply_success: {apply_result}\"\n",
    "        return True, msg\n",
    "    else:\n",
    "        error_code = apply_result[\"data\"][\"error_no\"]\n",
    "        msg = f\"apply_failed: {apply_result} error code: {error_code}\"\n",
    "        return False, msg"
   ]
  },
  {
   "cell_type": "code",
   "execution_count": 129,
   "id": "48dc4a7b",
   "metadata": {},
   "outputs": [
    {
     "data": {
      "text/html": [
       "<div>\n",
       "<style scoped>\n",
       "    .dataframe tbody tr th:only-of-type {\n",
       "        vertical-align: middle;\n",
       "    }\n",
       "\n",
       "    .dataframe tbody tr th {\n",
       "        vertical-align: top;\n",
       "    }\n",
       "\n",
       "    .dataframe thead th {\n",
       "        text-align: right;\n",
       "    }\n",
       "</style>\n",
       "<table border=\"1\" class=\"dataframe\">\n",
       "  <thead>\n",
       "    <tr style=\"text-align: right;\">\n",
       "      <th></th>\n",
       "      <th>stock_code</th>\n",
       "      <th>stock_namegb</th>\n",
       "      <th>lm_steady_hand</th>\n",
       "      <th>lm_min_amount</th>\n",
       "      <th>lm_low_price</th>\n",
       "      <th>application_begins</th>\n",
       "      <th>close_date</th>\n",
       "      <th>deposit_date</th>\n",
       "      <th>pre_over_subscribed_multiple</th>\n",
       "      <th>lm_over_subscribed_multiple</th>\n",
       "      <th>over_subscribed</th>\n",
       "    </tr>\n",
       "  </thead>\n",
       "  <tbody>\n",
       "  </tbody>\n",
       "</table>\n",
       "</div>"
      ],
      "text/plain": [
       "Empty DataFrame\n",
       "Columns: [stock_code, stock_namegb, lm_steady_hand, lm_min_amount, lm_low_price, application_begins, close_date, deposit_date, pre_over_subscribed_multiple, lm_over_subscribed_multiple, over_subscribed]\n",
       "Index: []"
      ]
     },
     "execution_count": 129,
     "metadata": {},
     "output_type": "execute_result"
    }
   ],
   "source": [
    "# 获取新股信息\n",
    "result = backend.get_ipo_list()\n",
    "ipo_list_df = pandas.DataFrame.from_dict(result[\"data\"])\n",
    "\n",
    "ipo_list_df = ipo_list_df[[\"stock_code\", \"stock_namegb\", \"lm_steady_hand\", \"lm_min_amount\", \"lm_low_price\", \"application_begins\", \"close_date\", \"deposit_date\", \"pre_over_subscribed_multiple\", \"lm_over_subscribed_multiple\"]]\n",
    "ipo_list_df.loc[:,\"pre_over_subscribed_multiple\"] = ipo_list_df[\"pre_over_subscribed_multiple\"].astype(float)\n",
    "\n",
    "# Only show close_date > today\n",
    "ipo_list_df = ipo_list_df[ipo_list_df[\"close_date\"] > datetime.datetime.today().strftime(\"%Y%m%d\")]\n",
    "# Sort by subscribed multiple\n",
    "ipo_list_df.loc[:,\"over_subscribed\"] = ipo_list_df[\"pre_over_subscribed_multiple\"] > 1\n",
    "\n",
    "ipo_list_df = ipo_list_df.sort_values([\"over_subscribed\",\"deposit_date\",\"pre_over_subscribed_multiple\"], ascending=[False, True, False])\n",
    "\n",
    "ipo_list_df"
   ]
  },
  {
   "cell_type": "code",
   "execution_count": 130,
   "id": "692850a7",
   "metadata": {},
   "outputs": [],
   "source": [
    "def get_user_ipo_balance():\n",
    "        user_fund = backend.get_user_fund()\n",
    "        current_ipo_balance = float(user_fund[\"data\"][\"ipo_balance\"])\n",
    "        return current_ipo_balance"
   ]
  },
  {
   "cell_type": "markdown",
   "id": "57f6f7c1",
   "metadata": {},
   "source": [
    "# Apply new IPO stock"
   ]
  },
  {
   "cell_type": "code",
   "execution_count": 131,
   "id": "4d0db4aa",
   "metadata": {},
   "outputs": [],
   "source": [
    "applied_code_map = get_applied_ipo_code_map()\n",
    "current_ipo_balance = get_user_ipo_balance()\n",
    "\n",
    "failure_msg_list = []\n",
    "success_msg_list = []\n",
    "for ix, row in ipo_list_df.iterrows():\n",
    "    stock_code = row[\"stock_code\"]\n",
    "    if stock_code in applied_code_map:\n",
    "        print(f\"Already applied {stock_code}, skipping\")\n",
    "        continue\n",
    "        \n",
    "    refund_deposit = 0\n",
    "    for refund_stock_code in ipo_list_df[ipo_list_df[\"deposit_date\"] <= row[\"close_date\"]][\"stock_code\"].to_list():\n",
    "        refund_deposit += float(applied_code_map[refund_stock_code])\n",
    "        \n",
    "    success, msg = apply_one_hand_ipo(stock_code, current_ipo_balance, refund_deposit + current_ipo_balance)\n",
    "    if not success:\n",
    "        msg = row[\"stock_namegb\"] + \":\" + msg + f\", close date: {row.close_date}\"\n",
    "        \n",
    "        failure_msg_list.append(msg)\n",
    "        print(msg)\n",
    "    else:\n",
    "        current_ipo_balance = get_user_ipo_balance()\n",
    "        success_msg_list.append(row[\"stock_namegb\"])\n"
   ]
  },
  {
   "cell_type": "code",
   "execution_count": 132,
   "id": "19c099ba",
   "metadata": {},
   "outputs": [
    {
     "name": "stdout",
     "output_type": "stream",
     "text": [
      "今日无可操作新股\n",
      "无新股中签\n",
      "无卖出操作\n"
     ]
    }
   ],
   "source": [
    "final_msg = \"\"\n",
    "if len(failure_msg_list) == 0 and len(success_msg_list) == 0:\n",
    "    final_msg = \"今日无可操作新股\"\n",
    "\n",
    "if len(failure_msg_list) > 0:\n",
    "    final_msg += \"打新失败:\\n\" + \"\\n\".join(failure_msg_list)\n",
    "    \n",
    "if len(success_msg_list) > 0: \n",
    "    final_msg += \"\\n成功打新: \\n\" + \"\\n\".join(success_msg_list)\n",
    "    \n",
    "if len(new_stock_allotted) > 0:\n",
    "    for stock_name, amount in new_stock_allotted.items():\n",
    "        final_msg += f\"\\n新股中签：{stock_name} 共 {amount} 元\"\n",
    "else:\n",
    "    final_msg += \"\\n无新股中签\"\n",
    "        \n",
    "if len(sold_stock_map) > 0:\n",
    "    for stock_name, info_map in sold_stock_map.items():\n",
    "        cost_price = float(info_map[\"cost_price\"])\n",
    "        price = float(info_map[\"price\"])\n",
    "        amount = float(info_map[\"amount\"])\n",
    "        profit = amount * (price - cost_price)\n",
    "        final_msg += f\"\\n卖出{amount}股{stock_name}：成本价{cost_price},卖出价{price}，盈亏：{profit}\"\n",
    "else:\n",
    "    final_msg += \"\\n无卖出操作\"\n",
    "\n",
    "print(final_msg)"
   ]
  },
  {
   "cell_type": "code",
   "execution_count": 133,
   "id": "889541dc",
   "metadata": {},
   "outputs": [
    {
     "name": "stdout",
     "output_type": "stream",
     "text": [
      "b'{\\n  \"id\": \"<20210712022723.1.F2C8F220900B8574@chendi.me>\",\\n  \"message\": \"Queued. Thank you.\"\\n}'\n",
      "今日无可操作新股\n",
      "无新股中签\n",
      "无卖出操作\n"
     ]
    }
   ],
   "source": [
    "from utils.email_util import send_email\n",
    "send_email(\"港股每日打新情况\", final_msg)\n",
    "print(final_msg)"
   ]
  },
  {
   "cell_type": "code",
   "execution_count": null,
   "id": "5a587f38",
   "metadata": {},
   "outputs": [],
   "source": []
  },
  {
   "cell_type": "code",
   "execution_count": null,
   "id": "881834bd",
   "metadata": {},
   "outputs": [],
   "source": []
  }
 ],
 "metadata": {
  "kernelspec": {
   "display_name": "Python 3",
   "language": "python",
   "name": "python3"
  },
  "language_info": {
   "codemirror_mode": {
    "name": "ipython",
    "version": 3
   },
   "file_extension": ".py",
   "mimetype": "text/x-python",
   "name": "python",
   "nbconvert_exporter": "python",
   "pygments_lexer": "ipython3",
   "version": "3.7.1"
  }
 },
 "nbformat": 4,
 "nbformat_minor": 5
}
